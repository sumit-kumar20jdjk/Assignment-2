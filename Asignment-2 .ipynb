{
 "cells": [
  {
   "cell_type": "code",
   "execution_count": 1,
   "id": "e00ec24f-1d0f-4d5c-b6e0-ba0855144ed1",
   "metadata": {},
   "outputs": [
    {
     "data": {
      "text/plain": [
       "\"Q1-ans- In python comments are coaded  using  a 'HASH' symbol (#) .\\n          \\n            IN PYTHON THERE ARE TWO TYPES OF COMMENTS:\\n    \\n    1. SINGLE LINE COMMENT- A single line comment starts and ends in the same line. we use # symbolto write single\\n                            line.\\n                            comment. ex- # key should be unique\\n    \\n    \\n     2. MULTILINE COMMENT-in multiline comment we use triple quotes.\""
      ]
     },
     "execution_count": 1,
     "metadata": {},
     "output_type": "execute_result"
    }
   ],
   "source": [
    "'''Q1-ans- In python comments are coaded  using  a 'HASH' symbol (#) .\n",
    "          \n",
    "            IN PYTHON THERE ARE TWO TYPES OF COMMENTS:\n",
    "    \n",
    "    1. SINGLE LINE COMMENT- A single line comment starts and ends in the same line. we use # symbolto write single\n",
    "                            line.\n",
    "                            comment. ex- # key should be unique\n",
    "    \n",
    "    \n",
    "     2. MULTILINE COMMENT-in multiline comment we use triple quotes.'''\n",
    "                          "
   ]
  },
  {
   "cell_type": "code",
   "execution_count": 2,
   "id": "a1f4e48a-a51b-49d2-9a5d-fba605fec65b",
   "metadata": {},
   "outputs": [
    {
     "data": {
      "text/plain": [
       "\"Q2-ans- variable is name that is used to refer to memory location.python variable is used to hold value. in python\\nwe don't need to declare explicitly variable in python. when we assign any value to the variable, that variable is  \\ndeclared automatically.(=) operator is used to assign value to a variable.\""
      ]
     },
     "execution_count": 2,
     "metadata": {},
     "output_type": "execute_result"
    }
   ],
   "source": [
    " '''Q2-ans- variable is name that is used to refer to memory location.python variable is used to hold value. in python\n",
    "we don't need to declare explicitly variable in python. when we assign any value to the variable, that variable is  \n",
    "declared automatically.(=) operator is used to assign value to a variable'''"
   ]
  },
  {
   "cell_type": "code",
   "execution_count": 3,
   "id": "d5f7e270-29ed-4352-8e49-50c31b23831f",
   "metadata": {},
   "outputs": [
    {
     "data": {
      "text/plain": [
       "'Q3ans-To convert between types, we simply use the type name as a function. There are several built-in functions to\\nperform conversion from one data type to another. These functions return a new object representing the converted\\nvalue. '"
      ]
     },
     "execution_count": 3,
     "metadata": {},
     "output_type": "execute_result"
    }
   ],
   "source": [
    "'''Q3ans-To convert between types, we simply use the type name as a function. There are several built-in functions to\n",
    "perform conversion from one data type to another. These functions return a new object representing the converted\n",
    "value. '''"
   ]
  },
  {
   "cell_type": "code",
   "execution_count": 4,
   "id": "c6cfb051-50f9-4625-b104-602699bf09f7",
   "metadata": {},
   "outputs": [],
   "source": [
    " x=8 # int (ex of int to float conversion)"
   ]
  },
  {
   "cell_type": "code",
   "execution_count": 5,
   "id": "6e7602e5-ddb8-4773-8a15-d128728fdf44",
   "metadata": {},
   "outputs": [],
   "source": [
    "y=float(x)"
   ]
  },
  {
   "cell_type": "code",
   "execution_count": 6,
   "id": "51c8acf0-f8a4-4dc7-81a8-0af51319326b",
   "metadata": {},
   "outputs": [
    {
     "data": {
      "text/plain": [
       "8.0"
      ]
     },
     "execution_count": 6,
     "metadata": {},
     "output_type": "execute_result"
    }
   ],
   "source": [
    "y  #float"
   ]
  },
  {
   "cell_type": "code",
   "execution_count": 7,
   "id": "a4bc09c7-4b3a-4ed6-9eee-b513b050844e",
   "metadata": {},
   "outputs": [
    {
     "data": {
      "text/plain": [
       "float"
      ]
     },
     "execution_count": 7,
     "metadata": {},
     "output_type": "execute_result"
    }
   ],
   "source": [
    "type(y)"
   ]
  },
  {
   "cell_type": "code",
   "execution_count": 8,
   "id": "73a364c3-2f05-4735-99f1-206e345c223b",
   "metadata": {},
   "outputs": [
    {
     "data": {
      "text/plain": [
       "' Q4 ans - we can start a Python program with the terminal or command line. This works on all platformm\\n    (Mac OS, Window To open a terminal on Windows: press the windows key + r key (run program) type cmd or command\\n       and press enter.To start the program, we have to open the command line and type.For this to wor you need to \\n       be in the correct directory. That means, the directory where your python program is located.'"
      ]
     },
     "execution_count": 8,
     "metadata": {},
     "output_type": "execute_result"
    }
   ],
   "source": [
    "''' Q4 ans - we can start a Python program with the terminal or command line. This works on all platformm\n",
    "    (Mac OS, Window To open a terminal on Windows: press the windows key + r key (run program) type cmd or command\n",
    "       and press enter.To start the program, we have to open the command line and type.For this to wor you need to \n",
    "       be in the correct directory. That means, the directory where your python program is located.'''"
   ]
  },
  {
   "cell_type": "code",
   "execution_count": null,
   "id": "732a5f02-e735-4627-a483-a6b099a12fd9",
   "metadata": {},
   "outputs": [],
   "source": [
    "# Qno 5 ans "
   ]
  },
  {
   "cell_type": "code",
   "execution_count": 9,
   "id": "eaa5f96b-d7d7-4562-abd0-bb571aa161a2",
   "metadata": {},
   "outputs": [],
   "source": [
    "my_list = [1, 2, 3, 4, 5] "
   ]
  },
  {
   "cell_type": "code",
   "execution_count": 10,
   "id": "f3a1276e-878b-42c2-8829-5bd921d83f80",
   "metadata": {},
   "outputs": [
    {
     "data": {
      "text/plain": [
       "[2, 3]"
      ]
     },
     "execution_count": 10,
     "metadata": {},
     "output_type": "execute_result"
    }
   ],
   "source": [
    "my_list[1:3]"
   ]
  },
  {
   "cell_type": "code",
   "execution_count": 11,
   "id": "ca0a644f-4c8d-44c5-bee1-695d90a1b46b",
   "metadata": {},
   "outputs": [
    {
     "data": {
      "text/plain": [
       "' Q6 ans - A complex number is a number that can be written in the form of (a+b j) where a and b are real numbers.'"
      ]
     },
     "execution_count": 11,
     "metadata": {},
     "output_type": "execute_result"
    }
   ],
   "source": [
    "''' Q6 ans - A complex number is a number that can be written in the form of (a+b j) where a and b are real numbers.'''"
   ]
  },
  {
   "cell_type": "code",
   "execution_count": 12,
   "id": "63a6f58c-3f8f-4c24-bb59-c564a3ec0321",
   "metadata": {},
   "outputs": [],
   "source": [
    "s=2+3j"
   ]
  },
  {
   "cell_type": "code",
   "execution_count": 13,
   "id": "f462e1a8-ee76-4775-bc49-c05e56d9064c",
   "metadata": {},
   "outputs": [
    {
     "data": {
      "text/plain": [
       "complex"
      ]
     },
     "execution_count": 13,
     "metadata": {},
     "output_type": "execute_result"
    }
   ],
   "source": [
    "type(s)"
   ]
  },
  {
   "cell_type": "code",
   "execution_count": 14,
   "id": "54788bbf-95c3-405b-9403-45fcfb59c2c4",
   "metadata": {},
   "outputs": [
    {
     "data": {
      "text/plain": [
       "2.0"
      ]
     },
     "execution_count": 14,
     "metadata": {},
     "output_type": "execute_result"
    }
   ],
   "source": [
    "s.real"
   ]
  },
  {
   "cell_type": "code",
   "execution_count": 15,
   "id": "602788d6-deb4-48c5-b451-119facd6de63",
   "metadata": {},
   "outputs": [
    {
     "data": {
      "text/plain": [
       "3.0"
      ]
     },
     "execution_count": 15,
     "metadata": {},
     "output_type": "execute_result"
    }
   ],
   "source": [
    "s.imag"
   ]
  },
  {
   "cell_type": "code",
   "execution_count": null,
   "id": "5f1cd1fd-e9ef-4897-bbf5-674ec66a1bb4",
   "metadata": {},
   "outputs": [],
   "source": [
    "#Q7ans"
   ]
  },
  {
   "cell_type": "code",
   "execution_count": 16,
   "id": "909e112d-6155-4fee-b687-b6ba5f5a32e0",
   "metadata": {},
   "outputs": [],
   "source": [
    "age=25 "
   ]
  },
  {
   "cell_type": "code",
   "execution_count": 17,
   "id": "ddc99556-3698-47de-964d-6619cf44cb9f",
   "metadata": {},
   "outputs": [
    {
     "data": {
      "text/plain": [
       "25"
      ]
     },
     "execution_count": 17,
     "metadata": {},
     "output_type": "execute_result"
    }
   ],
   "source": [
    "age"
   ]
  },
  {
   "cell_type": "code",
   "execution_count": null,
   "id": "3a2703e0-65e7-4b53-86c6-f308dc8ca53e",
   "metadata": {},
   "outputs": [],
   "source": [
    "#Q8 ans"
   ]
  },
  {
   "cell_type": "code",
   "execution_count": 18,
   "id": "4f9f5e46-1ffd-4db3-b525-2686719f1045",
   "metadata": {},
   "outputs": [],
   "source": [
    "price=9.99 "
   ]
  },
  {
   "cell_type": "code",
   "execution_count": 19,
   "id": "3b8f8b89-e72b-4e7b-bf49-fba603ac9e4e",
   "metadata": {},
   "outputs": [
    {
     "data": {
      "text/plain": [
       "float"
      ]
     },
     "execution_count": 19,
     "metadata": {},
     "output_type": "execute_result"
    }
   ],
   "source": [
    "type(price)"
   ]
  },
  {
   "cell_type": "code",
   "execution_count": null,
   "id": "7d6d3afa-7f49-47a1-816d-dd4502160095",
   "metadata": {},
   "outputs": [],
   "source": [
    "#Q9 ans-"
   ]
  },
  {
   "cell_type": "code",
   "execution_count": 20,
   "id": "789f1ab7-7512-40e5-9463-3990391b43c9",
   "metadata": {},
   "outputs": [],
   "source": [
    "name='sumit kumar' "
   ]
  },
  {
   "cell_type": "code",
   "execution_count": 21,
   "id": "2474e9e3-a618-4519-99bf-7699b79321ef",
   "metadata": {},
   "outputs": [
    {
     "name": "stdout",
     "output_type": "stream",
     "text": [
      "sumit kumar\n"
     ]
    }
   ],
   "source": [
    "print(name)"
   ]
  },
  {
   "cell_type": "code",
   "execution_count": null,
   "id": "a54c935d-4101-4637-ab39-11b7fa906f6e",
   "metadata": {},
   "outputs": [],
   "source": []
  },
  {
   "cell_type": "code",
   "execution_count": 22,
   "id": "78b0c64f-ed7a-409e-86ae-33b92fb97db2",
   "metadata": {},
   "outputs": [],
   "source": [
    "z= \"Hello, World!\" #Q10 ans-"
   ]
  },
  {
   "cell_type": "code",
   "execution_count": 25,
   "id": "5818ce66-2641-42d1-8d8a-0903af041263",
   "metadata": {},
   "outputs": [
    {
     "data": {
      "text/plain": [
       "'World'"
      ]
     },
     "execution_count": 25,
     "metadata": {},
     "output_type": "execute_result"
    }
   ],
   "source": [
    "z[-6:-1]"
   ]
  },
  {
   "cell_type": "code",
   "execution_count": 26,
   "id": "a7a534ed-a898-490c-a70d-2c4061491c9d",
   "metadata": {},
   "outputs": [],
   "source": [
    "is_student=True #Q11 ans-"
   ]
  },
  {
   "cell_type": "code",
   "execution_count": 27,
   "id": "fb0ee0f3-57e6-4289-9089-a70da9831728",
   "metadata": {},
   "outputs": [
    {
     "data": {
      "text/plain": [
       "bool"
      ]
     },
     "execution_count": 27,
     "metadata": {},
     "output_type": "execute_result"
    }
   ],
   "source": [
    "type(is_student)"
   ]
  },
  {
   "cell_type": "code",
   "execution_count": null,
   "id": "2d64c566-f4cb-4566-99f7-3a0f5c4d3a35",
   "metadata": {},
   "outputs": [],
   "source": []
  }
 ],
 "metadata": {
  "kernelspec": {
   "display_name": "Python 3 (ipykernel)",
   "language": "python",
   "name": "python3"
  },
  "language_info": {
   "codemirror_mode": {
    "name": "ipython",
    "version": 3
   },
   "file_extension": ".py",
   "mimetype": "text/x-python",
   "name": "python",
   "nbconvert_exporter": "python",
   "pygments_lexer": "ipython3",
   "version": "3.10.6"
  }
 },
 "nbformat": 4,
 "nbformat_minor": 5
}
